{
 "cells": [
  {
   "attachments": {},
   "cell_type": "markdown",
   "metadata": {},
   "source": [
    "# Visualising Big Mac Data\n",
    "Now that we know how to store, update and delete data in pandas, how do we more easily communicate this to people?\n",
    "\n",
    "## Matplotlib\n",
    "The matploblib module for python allows us to visualise data through a variety of plot styles that you would be familiar with. This is where we really start to look at **computer science** and start applying mathematics and science using technology.\n",
    "\n",
    "## Activities\n",
    "First we're going to import data from the *big_mac_update.csv* file we created previously into a dataframe. You'll need to create a plot using matplotlib which **compares** the cost of Big Macs across all 6 nations in **AUD**. You will need to select the plot type which best represents **comparison**. \n",
    "\n",
    "For assistance, you can look at *15 - Visualising Data with matplotlib* and can also look at [Matplotlib Plot Types](https://matplotlib.org/stable/plot_types/index)."
   ]
  },
  {
   "cell_type": "code",
   "execution_count": 1,
   "metadata": {},
   "outputs": [
    {
     "ename": "ModuleNotFoundError",
     "evalue": "No module named 'matplotlib'",
     "output_type": "error",
     "traceback": [
      "\u001b[1;31m---------------------------------------------------------------------------\u001b[0m",
      "\u001b[1;31mModuleNotFoundError\u001b[0m                       Traceback (most recent call last)",
      "Cell \u001b[1;32mIn[1], line 1\u001b[0m\n\u001b[1;32m----> 1\u001b[0m \u001b[39mimport\u001b[39;00m \u001b[39mmatplotlib\u001b[39;00m\u001b[39m.\u001b[39;00m\u001b[39mpyplot\u001b[39;00m \u001b[39mas\u001b[39;00m \u001b[39mplt\u001b[39;00m\n\u001b[0;32m      2\u001b[0m \u001b[39mimport\u001b[39;00m \u001b[39mpandas\u001b[39;00m \u001b[39mas\u001b[39;00m \u001b[39mpd\u001b[39;00m\n\u001b[0;32m      4\u001b[0m \u001b[39m#Read in the big_mac_update dataset to big_mac_df DataFrame\u001b[39;00m\n",
      "\u001b[1;31mModuleNotFoundError\u001b[0m: No module named 'matplotlib'"
     ]
    }
   ],
   "source": [
    "import matplotlib.pyplot as plt\n",
    "import pandas as pd\n",
    "\n",
    "#Read in the big_mac_update dataset to big_mac_df DataFrame\n",
    "big_mac_df = pd.read_csv('big_mac_update.csv') \n",
    "\n",
    "#Create the plot using big_mac_df\n",
    "delays_df.plot(\n",
    "               kind='bar',\n",
    "               x='Country',\n",
    "               y='Aud',\n",
    "               color='blue',\n",
    "               alpha=0.3,\n",
    "               title='Comparison between 6 countries of their big mac prices in AUD'\n",
    "              )\n",
    "\n",
    "#Show the plot\n",
    "plt.show()\n"
   ]
  },
  {
   "attachments": {},
   "cell_type": "markdown",
   "metadata": {},
   "source": [
    "## Pandas and Statistics\n",
    "Pandas can also be used to make calculations. For instance, we can return the *mean* from a set of values.\n",
    "\n",
    "### Calculating the Mean\n",
    "For information on how to calculate averages, read through [What is Pandas Mean for a Certain Column](https://saturncloud.io/blog/what-is-pandas-mean-for-a-certain-column/)"
   ]
  },
  {
   "cell_type": "code",
   "execution_count": null,
   "metadata": {},
   "outputs": [],
   "source": [
    "#Calculate the mean and median price of a Big Mac in AUD and store them in separate variables\n",
    "\n",
    "\n",
    "#Print both clearly for users\n"
   ]
  }
 ],
 "metadata": {
  "kernelspec": {
   "display_name": "Python 3",
   "language": "python",
   "name": "python3"
  },
  "language_info": {
   "codemirror_mode": {
    "name": "ipython",
    "version": 3
   },
   "file_extension": ".py",
   "mimetype": "text/x-python",
   "name": "python",
   "nbconvert_exporter": "python",
   "pygments_lexer": "ipython3",
   "version": "3.11.0"
  }
 },
 "nbformat": 4,
 "nbformat_minor": 2
}
